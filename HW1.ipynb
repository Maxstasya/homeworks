{
 "cells": [
  {
   "cell_type": "code",
   "execution_count": 2,
   "metadata": {
    "scrolled": true
   },
   "outputs": [
    {
     "name": "stdout",
     "output_type": "stream",
     "text": [
      "Введите число от 1 до 9: 4\n",
      " \n",
      "   _~_          \n",
      "  (o o)       \n",
      " /  V  \\     \n",
      "/(  _  )\\  \n",
      "  ^^ ^^    \n",
      "   _~_          \n",
      "  (o o)       \n",
      " /  V  \\     \n",
      "/(  _  )\\  \n",
      "  ^^ ^^    \n",
      "   _~_          \n",
      "  (o o)       \n",
      " /  V  \\     \n",
      "/(  _  )\\  \n",
      "  ^^ ^^    \n",
      "   _~_          \n",
      "  (o o)       \n",
      " /  V  \\     \n",
      "/(  _  )\\  \n",
      "  ^^ ^^   \n"
     ]
    }
   ],
   "source": [
    "#попингвинно\n",
    "\n",
    "n = int(input('Введите число от 1 до 9: '))\n",
    "p =   \"\"\" \n",
    "   _~_          \n",
    "  (o o)       \n",
    " /  V  \\     \n",
    "/(  _  )\\  \n",
    "  ^^ ^^   \"\"\" \n",
    "print(n*p)\n"
   ]
  },
  {
   "cell_type": "code",
   "execution_count": 30,
   "metadata": {},
   "outputs": [
    {
     "name": "stdout",
     "output_type": "stream",
     "text": [
      "Введите число от 1 до 9: 4\n",
      "    _~_        _~_        _~_        _~_    \n",
      "   (o o)      (o o)      (o o)      (o o)   \n",
      "  /  V  \\    /  V  \\    /  V  \\    /  V  \\  \n",
      " /(  _  )\\  /(  _  )\\  /(  _  )\\  /(  _  )\\ \n",
      "   ^^ ^^      ^^ ^^      ^^ ^^      ^^ ^^   \n"
     ]
    }
   ],
   "source": [
    "#построчечно\n",
    "n = int(input('Введите число от 1 до 9: '))\n",
    "a = '    _~_    '\n",
    "b = '   (o o)   '\n",
    "c = '  /  V  \\  '\n",
    "d = ' /(  _  )\\ '\n",
    "e = '   ^^ ^^   '\n",
    " \n",
    "print(a*n)\n",
    "print(b*n)\n",
    "print(c*n)\n",
    "print(d*n)\n",
    "print(e*n)"
   ]
  },
  {
   "cell_type": "code",
   "execution_count": 32,
   "metadata": {},
   "outputs": [
    {
     "name": "stdout",
     "output_type": "stream",
     "text": [
      "53\n",
      "11\n"
     ]
    }
   ],
   "source": [
    "q = \"The limits of my world mean the limits of my language\"\n",
    "print(len(q))\n",
    "print(len(q.split()))"
   ]
  },
  {
   "cell_type": "code",
   "execution_count": 79,
   "metadata": {
    "scrolled": true
   },
   "outputs": [
    {
     "name": "stdout",
     "output_type": "stream",
     "text": [
      "e\n",
      "g\n",
      "The l\n",
      "The limits of my world mean the limits of my langua\n",
      "Telmt fm ol entelmt fm agae\n",
      "h iiso ywrdma h iiso ylnug\n",
      "egaugnal ym fo stimil eht naem dlrow ym fo stimil ehT\n",
      "eaga mf tmletne lo mf tmleT\n",
      "27\n"
     ]
    }
   ],
   "source": [
    "q = \"The limits of my world mean the limits of my language\"\n",
    "print(q[2])\n",
    "print(q[-2])\n",
    "print(q[0:5])\n",
    "print(q[:-2])\n",
    "print(q[::2])\n",
    "print(q[1::2])\n",
    "print(q[::-1])\n",
    "q= q[::-1]\n",
    "print(q[::2])\n",
    "print(len(q[::2]))\n"
   ]
  },
  {
   "cell_type": "code",
   "execution_count": 98,
   "metadata": {},
   "outputs": [
    {
     "name": "stdout",
     "output_type": "stream",
     "text": [
      "Слово:   anna\n",
      "yes\n"
     ]
    }
   ],
   "source": [
    "w = input('Слово:   ')\n",
    "if w == w[::-1]:\n",
    "    print('yes')\n",
    "else:\n",
    "    print('no')"
   ]
  },
  {
   "cell_type": "code",
   "execution_count": 119,
   "metadata": {},
   "outputs": [
    {
     "name": "stdout",
     "output_type": "stream",
     "text": [
      "Введите любое слово:  законы\n",
      "Слово законы встречается в тексте 1 раз\n"
     ]
    }
   ],
   "source": [
    "text = \"\"\"законы физики рядом с черной дырой уже не работают в том представлении в котором мы привыкли \n",
    "пространство время искривляется и все события протекают уже совсем по другому \n",
    "словно пылесос черная дыра поглощает все что находится около нее планеты астероиды свет и прочее \n",
    "ранее считалось что черная дыра ничего не излучает но как доказал стивен хокинг черная дыра излучает антивещество \n",
    "то есть поедает вещество и выделяет антивещество \n",
    "ранее думали что если кинуть в черную дыру человека то ему труба порвет на субатомы \n",
    "но как оказалось по некоторым уравнениям есть определенные траектории путешествия сквозь черную дыру чтоб чувствовать себя нормально \n",
    "правда не ясно что будет за ней другой мир или ничего \n",
    "область вокруг черной дыры которая интересна называется горизонтом событий \n",
    "если туда полететь не зная волшебное уравнение то будет конечно не очень \n",
    "наблюдатель будет видеть как космический корабль влетает в горизонт событий и крайне медленно потом отдаляется пока не застынет в центре\n",
    "у самого же космонавта дела будут идти совсем по другому \n",
    "искривленное пространство будет лепить из него как из пластилина различные формы пока наконец не разорвет все на субатомы \n",
    "но для внешнего наблюдателя космонавт навсегда останется улыбающимся и махающим в иллюминатор застывшим изображением\"\"\"\n",
    "words = text.split()\n",
    "slovo = input('Введите любое слово:  ')\n",
    "for i in words:\n",
    "    if slovo not in words:\n",
    "        words.append(slovo)\n",
    "        print(words)\n",
    "        print ('Теперь есть!')\n",
    "    else:\n",
    "        g = words.count(slovo)\n",
    "        print ('Слово %s встречается в тексте %s раз' % (slovo,g))"
   ]
  },
  {
   "cell_type": "code",
   "execution_count": null,
   "metadata": {},
   "outputs": [],
   "source": []
  },
  {
   "cell_type": "code",
   "execution_count": null,
   "metadata": {},
   "outputs": [],
   "source": []
  }
 ],
 "metadata": {
  "kernelspec": {
   "display_name": "Python 3",
   "language": "python",
   "name": "python3"
  }
 },
 "nbformat": 4,
 "nbformat_minor": 2
}
